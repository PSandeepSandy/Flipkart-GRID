{
  "nbformat": 4,
  "nbformat_minor": 0,
  "metadata": {
    "colab": {
      "name": "flipkartGRID.ipynb",
      "provenance": []
    },
    "kernelspec": {
      "name": "python3",
      "display_name": "Python 3"
    },
    "accelerator": "GPU"
  },
  "cells": [
    {
      "cell_type": "code",
      "metadata": {
        "id": "LdaLiDCTk1UV",
        "colab_type": "code",
        "outputId": "218d1115-1d5e-4400-a950-78208ac30ca4",
        "colab": {
          "base_uri": "https://localhost:8080/",
          "height": 124
        }
      },
      "source": [
        "# Load the Drive helper and mount\n",
        "from google.colab import drive\n",
        "\n",
        "# This will prompt for authorization.\n",
        "drive.mount('/content/drive')"
      ],
      "execution_count": 0,
      "outputs": [
        {
          "output_type": "stream",
          "text": [
            "Go to this URL in a browser: https://accounts.google.com/o/oauth2/auth?client_id=947318989803-6bn6qk8qdgf4n4g3pfee6491hc0brc4i.apps.googleusercontent.com&redirect_uri=urn%3Aietf%3Awg%3Aoauth%3A2.0%3Aoob&scope=email%20https%3A%2F%2Fwww.googleapis.com%2Fauth%2Fdocs.test%20https%3A%2F%2Fwww.googleapis.com%2Fauth%2Fdrive%20https%3A%2F%2Fwww.googleapis.com%2Fauth%2Fdrive.photos.readonly%20https%3A%2F%2Fwww.googleapis.com%2Fauth%2Fpeopleapi.readonly&response_type=code\n",
            "\n",
            "Enter your authorization code:\n",
            "··········\n",
            "Mounted at /content/drive\n"
          ],
          "name": "stdout"
        }
      ]
    },
    {
      "cell_type": "code",
      "metadata": {
        "id": "nu152VlSlHUs",
        "colab_type": "code",
        "outputId": "16f72231-c23d-4eb0-fe2c-a35a0d516b71",
        "colab": {
          "base_uri": "https://localhost:8080/",
          "height": 35
        }
      },
      "source": [
        "#Importing all necessary libraries\n",
        "\n",
        "import os\n",
        "import shutil\n",
        "import pandas as pd\n",
        "import numpy as np\n",
        "import keras_preprocessing\n",
        "from keras.callbacks import ModelCheckpoint\n",
        "from keras_preprocessing.image import ImageDataGenerator\n",
        "from keras.models import Model\n",
        "from keras.layers import Input, Conv2D, LeakyReLU, MaxPooling2D, concatenate, AveragePooling2D, Flatten\n",
        "from keras.layers import Dense, SpatialDropout1D, Dropout"
      ],
      "execution_count": 0,
      "outputs": [
        {
          "output_type": "stream",
          "text": [
            "Using TensorFlow backend.\n"
          ],
          "name": "stderr"
        }
      ]
    },
    {
      "cell_type": "code",
      "metadata": {
        "id": "u7z5VVdSmCUV",
        "colab_type": "code",
        "colab": {}
      },
      "source": [
        "#Directory assignments\n",
        "\n",
        "base_dir='drive/My Drive/FlipkartGRID'\n",
        "train_dir=os.path.join(base_dir, 'trainImages')"
      ],
      "execution_count": 0,
      "outputs": []
    },
    {
      "cell_type": "code",
      "metadata": {
        "id": "b1BHhS3hDJ6F",
        "colab_type": "code",
        "colab": {}
      },
      "source": [
        "for image_name in os.listdir(os.path.join(base_dir, 'extratrainImages')):\n",
        "  os.rename(src=os.path.join(os.path.join(base_dir, 'extratrainImages'), image_name), dst=os.path.join(train_dir, image_name))"
      ],
      "execution_count": 0,
      "outputs": []
    },
    {
      "cell_type": "code",
      "metadata": {
        "id": "jFrV8hQ41x1O",
        "colab_type": "code",
        "colab": {}
      },
      "source": [
        "#Reading training.csv\n",
        "\n",
        "train_df=pd.read_csv(os.path.join(base_dir, 'training.csv'))"
      ],
      "execution_count": 0,
      "outputs": []
    },
    {
      "cell_type": "code",
      "metadata": {
        "id": "l-IQMzn6CIZg",
        "colab_type": "code",
        "colab": {}
      },
      "source": [
        "#Checking consistency(counts) of train_df and actual images in directory\n",
        "\n",
        "print('Entries in train_df: '+str(len(train_df)))\n",
        "print('Actual Number of images in directory: ' + str(len(os.listdir(train_dir))))"
      ],
      "execution_count": 0,
      "outputs": []
    },
    {
      "cell_type": "code",
      "metadata": {
        "id": "Y7OYkFg42nIE",
        "colab_type": "code",
        "colab": {}
      },
      "source": [
        "#Removing the extra images from directory, which donot have entries in train_df:\n",
        "\n",
        "training_images_directory=os.listdir(train_dir)\n",
        "\n",
        "for image_name in training_images_directory:\n",
        "    if image_name in train_df['image_name'].tolist():\n",
        "        continue\n",
        "    else:\n",
        "        print('Removing image with ID: '+ str(image_name))\n",
        "        os.rename(src=os.path.join(train_dir, image_name), dst=os.path.join('drive/My Drive/FlipkartGRID/extratrainImages', image_name))"
      ],
      "execution_count": 0,
      "outputs": []
    },
    {
      "cell_type": "code",
      "metadata": {
        "id": "SbI09dYUmGNM",
        "colab_type": "code",
        "outputId": "347d8fd5-3034-42d7-8ac8-5a3314dbc5b7",
        "colab": {
          "base_uri": "https://localhost:8080/",
          "height": 52
        }
      },
      "source": [
        "#Image flow from directory\n",
        "\n",
        "datagen=ImageDataGenerator(rescale=1.0/255, validation_split=0.25)\n",
        "\n",
        "train_generator=datagen.flow_from_dataframe(\n",
        "                                            dataframe=train_df,\n",
        "                                            directory=train_dir,\n",
        "                                            x_col='image_name',\n",
        "                                            y_col=['x1', 'x2', 'y1', 'y2'],\n",
        "                                            subset='training',\n",
        "                                            target_size=(128, 128),\n",
        "                                            color_mode='grayscale',\n",
        "                                            batch_size= 100,\n",
        "                                            shuffle=True,\n",
        "                                            seed=1,\n",
        "                                            class_mode='other'\n",
        "                                           )\n",
        "\n",
        "validation_generator=datagen.flow_from_dataframe(\n",
        "                                             dataframe=train_df,\n",
        "                                             directory=train_dir,\n",
        "                                             x_col='image_name',\n",
        "                                             y_col=['x1', 'x2', 'y1', 'y2'],\n",
        "                                             subset='validation',\n",
        "                                             target_size=(128, 128),                                                                                        \n",
        "                                             color_mode='grayscale',\n",
        "                                             batch_size= 100,\n",
        "                                             shuffle=True,\n",
        "                                             seed=1,\n",
        "                                             class_mode='other'\n",
        "                                            )"
      ],
      "execution_count": 0,
      "outputs": [
        {
          "output_type": "stream",
          "text": [
            "Found 10500 images.\n",
            "Found 3500 images.\n"
          ],
          "name": "stdout"
        }
      ]
    },
    {
      "cell_type": "code",
      "metadata": {
        "id": "QwkWE-MShevk",
        "colab_type": "code",
        "outputId": "a9baba0e-9311-47e0-8669-e19f8b7588b6",
        "colab": {
          "base_uri": "https://localhost:8080/",
          "height": 817
        }
      },
      "source": [
        "#model2_2 architecture (light)\n",
        "\n",
        "from keras.layers import SpatialDropout2D\n",
        "inputTensor=Input((128, 128, 1))\n",
        "\n",
        "outputTensor=Conv2D(kernel_size=(20, 20), filters=64, activation=None)(inputTensor)\n",
        "outputTensor=LeakyReLU(alpha=0.2)(outputTensor)\n",
        "outputTensor=MaxPooling2D(pool_size=(2, 2))(outputTensor)\n",
        "outputTensor=SpatialDropout2D(0.1)(outputTensor)\n",
        "\n",
        "outputTensor=Conv2D(kernel_size=(40, 40), filters=128, activation=None)(outputTensor)\n",
        "outputTensor=MaxPooling2D(pool_size=(2, 2))(outputTensor)\n",
        "\n",
        "outputTensor=Flatten()(outputTensor)\n",
        "\n",
        "outputTensor=Dense(units=2048, activation=None)(outputTensor)\n",
        "outputTensor=LeakyReLU(alpha=0.2)(outputTensor)\n",
        "\n",
        "outputTensor=Dense(units=256, activation=None)(outputTensor)\n",
        "outputTensor=LeakyReLU(alpha=0.2)(outputTensor)\n",
        "outputTensor=Dropout(0.1)(outputTensor)\n",
        "\n",
        "outputTensor=Dense(units=20, activation=None)(outputTensor)\n",
        "outputTensor=LeakyReLU(alpha=0.2)(outputTensor)\n",
        "\n",
        "outputTensor=Dense(units=4, activation=None)(outputTensor)\n",
        "\n",
        "model2_2=Model(inputs=inputTensor, outputs=outputTensor)\n",
        "\n",
        "model2_2.summary()"
      ],
      "execution_count": 0,
      "outputs": [
        {
          "output_type": "stream",
          "text": [
            "WARNING:tensorflow:From /usr/local/lib/python3.6/dist-packages/tensorflow/python/framework/op_def_library.py:263: colocate_with (from tensorflow.python.framework.ops) is deprecated and will be removed in a future version.\n",
            "Instructions for updating:\n",
            "Colocations handled automatically by placer.\n",
            "WARNING:tensorflow:From /usr/local/lib/python3.6/dist-packages/keras/backend/tensorflow_backend.py:3445: calling dropout (from tensorflow.python.ops.nn_ops) with keep_prob is deprecated and will be removed in a future version.\n",
            "Instructions for updating:\n",
            "Please use `rate` instead of `keep_prob`. Rate should be set to `rate = 1 - keep_prob`.\n",
            "_________________________________________________________________\n",
            "Layer (type)                 Output Shape              Param #   \n",
            "=================================================================\n",
            "input_1 (InputLayer)         (None, 128, 128, 1)       0         \n",
            "_________________________________________________________________\n",
            "conv2d_1 (Conv2D)            (None, 109, 109, 64)      25664     \n",
            "_________________________________________________________________\n",
            "leaky_re_lu_1 (LeakyReLU)    (None, 109, 109, 64)      0         \n",
            "_________________________________________________________________\n",
            "max_pooling2d_1 (MaxPooling2 (None, 54, 54, 64)        0         \n",
            "_________________________________________________________________\n",
            "spatial_dropout2d_1 (Spatial (None, 54, 54, 64)        0         \n",
            "_________________________________________________________________\n",
            "conv2d_2 (Conv2D)            (None, 15, 15, 128)       13107328  \n",
            "_________________________________________________________________\n",
            "max_pooling2d_2 (MaxPooling2 (None, 7, 7, 128)         0         \n",
            "_________________________________________________________________\n",
            "flatten_1 (Flatten)          (None, 6272)              0         \n",
            "_________________________________________________________________\n",
            "dense_1 (Dense)              (None, 2048)              12847104  \n",
            "_________________________________________________________________\n",
            "leaky_re_lu_2 (LeakyReLU)    (None, 2048)              0         \n",
            "_________________________________________________________________\n",
            "dense_2 (Dense)              (None, 256)               524544    \n",
            "_________________________________________________________________\n",
            "leaky_re_lu_3 (LeakyReLU)    (None, 256)               0         \n",
            "_________________________________________________________________\n",
            "dropout_1 (Dropout)          (None, 256)               0         \n",
            "_________________________________________________________________\n",
            "dense_3 (Dense)              (None, 20)                5140      \n",
            "_________________________________________________________________\n",
            "leaky_re_lu_4 (LeakyReLU)    (None, 20)                0         \n",
            "_________________________________________________________________\n",
            "dense_4 (Dense)              (None, 4)                 84        \n",
            "=================================================================\n",
            "Total params: 26,509,864\n",
            "Trainable params: 26,509,864\n",
            "Non-trainable params: 0\n",
            "_________________________________________________________________\n"
          ],
          "name": "stdout"
        }
      ]
    },
    {
      "cell_type": "code",
      "metadata": {
        "id": "nduAsQnie6kC",
        "colab_type": "code",
        "colab": {}
      },
      "source": [
        "#Compilation cell\n",
        "\n",
        "modelcheckPoint=ModelCheckpoint(filepath='drive/My Drive/model2_2.h5',\n",
        "                                monitor='val_loss',\n",
        "                                mode='min',\n",
        "                                save_best_only=True,\n",
        "                                save_weights_only=False,\n",
        "                               )\n",
        "\n",
        "model2_2.compile(optimizer='adam',\n",
        "              metrics=['accuracy'],\n",
        "              loss=['mse'])"
      ],
      "execution_count": 0,
      "outputs": []
    },
    {
      "cell_type": "code",
      "metadata": {
        "id": "8YfD7pWXDTB-",
        "colab_type": "code",
        "outputId": "2754870c-9643-4054-faec-f7c16e5be8e6",
        "colab": {
          "base_uri": "https://localhost:8080/",
          "height": 2880
        }
      },
      "source": [
        "#Fitting cell\n",
        "\n",
        "model2_2.fit_generator(train_generator,\n",
        "                    steps_per_epoch=105,\n",
        "                    epochs=80, \n",
        "                    callbacks=[modelcheckPoint],\n",
        "                    validation_data=validation_generator,\n",
        "                    validation_steps=35,\n",
        "                    verbose=1)"
      ],
      "execution_count": 0,
      "outputs": [
        {
          "output_type": "stream",
          "text": [
            "WARNING:tensorflow:From /usr/local/lib/python3.6/dist-packages/tensorflow/python/ops/math_ops.py:3066: to_int32 (from tensorflow.python.ops.math_ops) is deprecated and will be removed in a future version.\n",
            "Instructions for updating:\n",
            "Use tf.cast instead.\n",
            "Epoch 1/80\n",
            "105/105 [==============================] - 2937s 28s/step - loss: 36792.6963 - acc: 0.8622 - val_loss: 6727.8794 - val_acc: 0.8994\n",
            "Epoch 2/80\n",
            "105/105 [==============================] - 213s 2s/step - loss: 7817.6908 - acc: 0.9043 - val_loss: 5538.6072 - val_acc: 0.8994\n",
            "Epoch 3/80\n",
            "105/105 [==============================] - 208s 2s/step - loss: 6332.5313 - acc: 0.9039 - val_loss: 4678.5770 - val_acc: 0.8997\n",
            "Epoch 4/80\n",
            "105/105 [==============================] - 211s 2s/step - loss: 5603.6301 - acc: 0.9026 - val_loss: 6801.6491 - val_acc: 0.8957\n",
            "Epoch 5/80\n",
            "105/105 [==============================] - 207s 2s/step - loss: 4880.5984 - acc: 0.9016 - val_loss: 3008.6631 - val_acc: 0.8994\n",
            "Epoch 6/80\n",
            "105/105 [==============================] - 207s 2s/step - loss: 4743.0759 - acc: 0.9028 - val_loss: 3138.2360 - val_acc: 0.9006\n",
            "Epoch 7/80\n",
            "105/105 [==============================] - 208s 2s/step - loss: 3644.1408 - acc: 0.9049 - val_loss: 2878.7473 - val_acc: 0.9006\n",
            "Epoch 8/80\n",
            "105/105 [==============================] - 207s 2s/step - loss: 4185.3758 - acc: 0.9033 - val_loss: 3518.0339 - val_acc: 0.9011\n",
            "Epoch 9/80\n",
            "105/105 [==============================] - 204s 2s/step - loss: 3586.3232 - acc: 0.9036 - val_loss: 2464.9650 - val_acc: 0.9031\n",
            "Epoch 10/80\n",
            "105/105 [==============================] - 206s 2s/step - loss: 4026.3848 - acc: 0.9046 - val_loss: 2661.1514 - val_acc: 0.9054\n",
            "Epoch 11/80\n",
            "105/105 [==============================] - 208s 2s/step - loss: 3208.9462 - acc: 0.9095 - val_loss: 2611.9495 - val_acc: 0.9049\n",
            "Epoch 12/80\n",
            "105/105 [==============================] - 208s 2s/step - loss: 3072.8533 - acc: 0.9108 - val_loss: 2124.8047 - val_acc: 0.9100\n",
            "Epoch 13/80\n",
            "105/105 [==============================] - 208s 2s/step - loss: 3095.3957 - acc: 0.9115 - val_loss: 2446.5707 - val_acc: 0.9111\n",
            "Epoch 14/80\n",
            "105/105 [==============================] - 207s 2s/step - loss: 2918.1640 - acc: 0.9166 - val_loss: 2012.7843 - val_acc: 0.9106\n",
            "Epoch 15/80\n",
            "105/105 [==============================] - 208s 2s/step - loss: 2738.9847 - acc: 0.9171 - val_loss: 2086.0338 - val_acc: 0.9151\n",
            "Epoch 16/80\n",
            "105/105 [==============================] - 208s 2s/step - loss: 2478.9550 - acc: 0.9228 - val_loss: 2567.7952 - val_acc: 0.9171\n",
            "Epoch 17/80\n",
            "105/105 [==============================] - 208s 2s/step - loss: 2853.5449 - acc: 0.9224 - val_loss: 3318.8508 - val_acc: 0.9146\n",
            "Epoch 18/80\n",
            "105/105 [==============================] - 209s 2s/step - loss: 2686.8869 - acc: 0.9242 - val_loss: 2161.7466 - val_acc: 0.9197\n",
            "Epoch 19/80\n",
            "105/105 [==============================] - 208s 2s/step - loss: 2503.0210 - acc: 0.9240 - val_loss: 1864.1120 - val_acc: 0.9203\n",
            "Epoch 20/80\n",
            "105/105 [==============================] - 209s 2s/step - loss: 2509.0538 - acc: 0.9272 - val_loss: 4652.6084 - val_acc: 0.9243\n",
            "Epoch 21/80\n",
            "105/105 [==============================] - 208s 2s/step - loss: 2607.7714 - acc: 0.9289 - val_loss: 1740.9019 - val_acc: 0.9283\n",
            "Epoch 22/80\n",
            "105/105 [==============================] - 209s 2s/step - loss: 2672.7549 - acc: 0.9276 - val_loss: 1647.6255 - val_acc: 0.9317\n",
            "Epoch 23/80\n",
            "105/105 [==============================] - 209s 2s/step - loss: 2144.0100 - acc: 0.9310 - val_loss: 1988.1041 - val_acc: 0.9289\n",
            "Epoch 24/80\n",
            "105/105 [==============================] - 208s 2s/step - loss: 2015.4598 - acc: 0.9311 - val_loss: 1995.9068 - val_acc: 0.9214\n",
            "Epoch 25/80\n",
            "105/105 [==============================] - 208s 2s/step - loss: 2249.3524 - acc: 0.9319 - val_loss: 1770.6356 - val_acc: 0.9386\n",
            "Epoch 26/80\n",
            "105/105 [==============================] - 208s 2s/step - loss: 2070.1564 - acc: 0.9353 - val_loss: 2813.4949 - val_acc: 0.9406\n",
            "Epoch 27/80\n",
            "105/105 [==============================] - 208s 2s/step - loss: 2206.8412 - acc: 0.9335 - val_loss: 1575.7131 - val_acc: 0.9363\n",
            "Epoch 28/80\n",
            "105/105 [==============================] - 209s 2s/step - loss: 1935.5770 - acc: 0.9379 - val_loss: 1761.5954 - val_acc: 0.9249\n",
            "Epoch 29/80\n",
            "105/105 [==============================] - 208s 2s/step - loss: 2275.3145 - acc: 0.9362 - val_loss: 2006.0687 - val_acc: 0.9266\n",
            "Epoch 30/80\n",
            "105/105 [==============================] - 208s 2s/step - loss: 1995.8143 - acc: 0.9370 - val_loss: 3164.3847 - val_acc: 0.9417\n",
            "Epoch 31/80\n",
            "105/105 [==============================] - 207s 2s/step - loss: 2202.7359 - acc: 0.9365 - val_loss: 2028.5063 - val_acc: 0.9420\n",
            "Epoch 32/80\n",
            "105/105 [==============================] - 208s 2s/step - loss: 1912.1898 - acc: 0.9387 - val_loss: 1390.5788 - val_acc: 0.9374\n",
            "Epoch 33/80\n",
            "105/105 [==============================] - 208s 2s/step - loss: 1986.7797 - acc: 0.9401 - val_loss: 1724.4527 - val_acc: 0.9237\n",
            "Epoch 34/80\n",
            "105/105 [==============================] - 207s 2s/step - loss: 1938.0757 - acc: 0.9386 - val_loss: 1446.8617 - val_acc: 0.9420\n",
            "Epoch 35/80\n",
            "105/105 [==============================] - 208s 2s/step - loss: 2177.1748 - acc: 0.9360 - val_loss: 1513.1806 - val_acc: 0.9394\n",
            "Epoch 36/80\n",
            "105/105 [==============================] - 208s 2s/step - loss: 1748.3763 - acc: 0.9410 - val_loss: 1848.9453 - val_acc: 0.9354\n",
            "Epoch 37/80\n",
            "105/105 [==============================] - 208s 2s/step - loss: 2354.1749 - acc: 0.9346 - val_loss: 1443.5030 - val_acc: 0.9411\n",
            "Epoch 38/80\n",
            "105/105 [==============================] - 205s 2s/step - loss: 1808.7442 - acc: 0.9408 - val_loss: 1488.4336 - val_acc: 0.9423\n",
            "Epoch 39/80\n",
            "105/105 [==============================] - 204s 2s/step - loss: 1734.1918 - acc: 0.9427 - val_loss: 1783.5669 - val_acc: 0.9263\n",
            "Epoch 40/80\n",
            "105/105 [==============================] - 201s 2s/step - loss: 1647.1860 - acc: 0.9422 - val_loss: 1256.7611 - val_acc: 0.9429\n",
            "Epoch 41/80\n",
            "105/105 [==============================] - 201s 2s/step - loss: 1775.3146 - acc: 0.9407 - val_loss: 1372.2031 - val_acc: 0.9403\n",
            "Epoch 42/80\n",
            "105/105 [==============================] - 198s 2s/step - loss: 1647.0241 - acc: 0.9423 - val_loss: 1272.8445 - val_acc: 0.9309\n",
            "Epoch 43/80\n",
            "105/105 [==============================] - 197s 2s/step - loss: 1713.5374 - acc: 0.9421 - val_loss: 2723.0076 - val_acc: 0.9351\n",
            "Epoch 44/80\n",
            "105/105 [==============================] - 203s 2s/step - loss: 1739.3106 - acc: 0.9423 - val_loss: 1508.8700 - val_acc: 0.9369\n",
            "Epoch 45/80\n",
            "105/105 [==============================] - 205s 2s/step - loss: 1531.3071 - acc: 0.9427 - val_loss: 1250.6382 - val_acc: 0.9420\n",
            "Epoch 46/80\n",
            "105/105 [==============================] - 202s 2s/step - loss: 1885.3256 - acc: 0.9406 - val_loss: 1761.1459 - val_acc: 0.9326\n",
            "Epoch 47/80\n",
            "105/105 [==============================] - 199s 2s/step - loss: 1898.2894 - acc: 0.9379 - val_loss: 1331.1570 - val_acc: 0.9420\n",
            "Epoch 48/80\n",
            "105/105 [==============================] - 197s 2s/step - loss: 1504.6841 - acc: 0.9445 - val_loss: 1404.2782 - val_acc: 0.9366\n",
            "Epoch 49/80\n",
            "105/105 [==============================] - 197s 2s/step - loss: 1733.0318 - acc: 0.9427 - val_loss: 1688.5900 - val_acc: 0.9431\n",
            "Epoch 50/80\n",
            "105/105 [==============================] - 196s 2s/step - loss: 1787.7719 - acc: 0.9456 - val_loss: 1483.9139 - val_acc: 0.9283\n",
            "Epoch 51/80\n",
            "105/105 [==============================] - 194s 2s/step - loss: 1716.8885 - acc: 0.9414 - val_loss: 1348.0833 - val_acc: 0.9409\n",
            "Epoch 52/80\n",
            "105/105 [==============================] - 194s 2s/step - loss: 1527.9462 - acc: 0.9436 - val_loss: 1236.0666 - val_acc: 0.9369\n",
            "Epoch 53/80\n",
            "105/105 [==============================] - 199s 2s/step - loss: 1585.1038 - acc: 0.9427 - val_loss: 1357.6714 - val_acc: 0.9411\n",
            "Epoch 54/80\n",
            "105/105 [==============================] - 203s 2s/step - loss: 1540.9136 - acc: 0.9450 - val_loss: 1114.8840 - val_acc: 0.9466\n",
            "Epoch 55/80\n",
            "105/105 [==============================] - 203s 2s/step - loss: 1489.2553 - acc: 0.9444 - val_loss: 1210.8039 - val_acc: 0.9414\n",
            "Epoch 56/80\n",
            "105/105 [==============================] - 199s 2s/step - loss: 1773.8431 - acc: 0.9429 - val_loss: 1609.4610 - val_acc: 0.9349\n",
            "Epoch 57/80\n",
            "105/105 [==============================] - 202s 2s/step - loss: 1372.7032 - acc: 0.9455 - val_loss: 1105.0197 - val_acc: 0.9414\n",
            "Epoch 58/80\n",
            "105/105 [==============================] - 206s 2s/step - loss: 1570.1150 - acc: 0.9442 - val_loss: 1540.8095 - val_acc: 0.9477\n",
            "Epoch 59/80\n",
            "105/105 [==============================] - 205s 2s/step - loss: 1587.8590 - acc: 0.9470 - val_loss: 1576.6442 - val_acc: 0.9406\n",
            "Epoch 60/80\n",
            "105/105 [==============================] - 206s 2s/step - loss: 1326.7477 - acc: 0.9436 - val_loss: 1182.7921 - val_acc: 0.9409\n",
            "Epoch 61/80\n",
            "105/105 [==============================] - 202s 2s/step - loss: 1599.3912 - acc: 0.9466 - val_loss: 1556.4756 - val_acc: 0.9423\n",
            "Epoch 62/80\n",
            "105/105 [==============================] - 206s 2s/step - loss: 1443.8986 - acc: 0.9504 - val_loss: 1246.5870 - val_acc: 0.9411\n",
            "Epoch 63/80\n",
            "105/105 [==============================] - 207s 2s/step - loss: 1399.0795 - acc: 0.9485 - val_loss: 1314.7147 - val_acc: 0.9371\n",
            "Epoch 64/80\n",
            "105/105 [==============================] - 208s 2s/step - loss: 1384.2394 - acc: 0.9506 - val_loss: 1631.0400 - val_acc: 0.9480\n",
            "Epoch 65/80\n",
            "105/105 [==============================] - 207s 2s/step - loss: 1354.8389 - acc: 0.9495 - val_loss: 1211.4539 - val_acc: 0.9457\n",
            "Epoch 66/80\n",
            "105/105 [==============================] - 208s 2s/step - loss: 1578.8701 - acc: 0.9454 - val_loss: 1460.2069 - val_acc: 0.9426\n",
            "Epoch 67/80\n",
            "105/105 [==============================] - 208s 2s/step - loss: 1265.0331 - acc: 0.9506 - val_loss: 1216.4630 - val_acc: 0.9463\n",
            "Epoch 68/80\n",
            "105/105 [==============================] - 208s 2s/step - loss: 1336.6372 - acc: 0.9507 - val_loss: 2609.9109 - val_acc: 0.9429\n",
            "Epoch 69/80\n",
            "105/105 [==============================] - 208s 2s/step - loss: 1367.2098 - acc: 0.9498 - val_loss: 1470.6197 - val_acc: 0.9343\n",
            "Epoch 70/80\n",
            "105/105 [==============================] - 208s 2s/step - loss: 1490.5103 - acc: 0.9465 - val_loss: 1715.7806 - val_acc: 0.9420\n",
            "Epoch 71/80\n",
            "105/105 [==============================] - 208s 2s/step - loss: 1384.1418 - acc: 0.9474 - val_loss: 1353.2104 - val_acc: 0.9431\n",
            "Epoch 72/80\n",
            "105/105 [==============================] - 207s 2s/step - loss: 1319.1997 - acc: 0.9505 - val_loss: 1753.8037 - val_acc: 0.9497\n",
            "Epoch 73/80\n",
            "105/105 [==============================] - 207s 2s/step - loss: 1294.7354 - acc: 0.9488 - val_loss: 1417.8017 - val_acc: 0.9374\n",
            "Epoch 74/80\n",
            "105/105 [==============================] - 207s 2s/step - loss: 1133.8085 - acc: 0.9533 - val_loss: 1144.5859 - val_acc: 0.9409\n",
            "Epoch 75/80\n",
            "105/105 [==============================] - 207s 2s/step - loss: 1323.6650 - acc: 0.9508 - val_loss: 7701.4222 - val_acc: 0.9340\n",
            "Epoch 76/80\n",
            "105/105 [==============================] - 208s 2s/step - loss: 69924235.3345 - acc: 0.3523 - val_loss: 26423.2722 - val_acc: 0.8766\n",
            "Epoch 77/80\n",
            "105/105 [==============================] - 207s 2s/step - loss: 1091743.5932 - acc: 0.3460 - val_loss: 15014.8310 - val_acc: 0.8617\n",
            "Epoch 78/80\n",
            "105/105 [==============================] - 207s 2s/step - loss: 398269.8287 - acc: 0.4013 - val_loss: 15122.3689 - val_acc: 0.8311\n",
            "Epoch 79/80\n",
            "105/105 [==============================] - 208s 2s/step - loss: 281098.8561 - acc: 0.4422 - val_loss: 12175.5645 - val_acc: 0.8651\n",
            "Epoch 80/80\n",
            "105/105 [==============================] - 208s 2s/step - loss: 213844.3249 - acc: 0.4727 - val_loss: 13375.2504 - val_acc: 0.8240\n"
          ],
          "name": "stdout"
        },
        {
          "output_type": "execute_result",
          "data": {
            "text/plain": [
              "<keras.callbacks.History at 0x7f9897b2ada0>"
            ]
          },
          "metadata": {
            "tags": []
          },
          "execution_count": 12
        }
      ]
    },
    {
      "cell_type": "code",
      "metadata": {
        "id": "TzgTztVhLeRl",
        "colab_type": "code",
        "colab": {}
      },
      "source": [
        "model2.save(os.path.join(base_dir, 'model2.h5'))"
      ],
      "execution_count": 0,
      "outputs": []
    }
  ]
}